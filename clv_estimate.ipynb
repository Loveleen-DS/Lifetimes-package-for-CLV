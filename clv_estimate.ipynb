{
 "cells": [
  {
   "cell_type": "markdown",
   "id": "a4a202a1-a291-4b9d-bf5f-8b10c3302f5e",
   "metadata": {},
   "source": [
    "# Solving Customer Retention Challenges Using Lifetimes package"
   ]
  },
  {
   "cell_type": "markdown",
   "id": "1a249e34-4f7e-4805-b8ad-9eb087da0685",
   "metadata": {},
   "source": [
    "## Introduction  \n",
    "\n",
    "In today's competitive e-commerce landscape, retaining customers is as vital as acquiring new ones. Understanding Customer Lifetime Value (CLV) is key to optimizing retention efforts. CLV estimates the total revenue a customer will generate over their relationship with a business.  \n",
    "\n",
    "The code below uses Python's lifetimes package to identify high-value customers and predict their future purchasing behavior, informing targeted marketing strategies. Specifically:  \n",
    "-The BG/NBD model predicts how often a customer will make future purchases.  \n",
    "-The Gamma-Gamma model estimates how much a customer will spend in those transactions.  \n",
    "\n",
    "By combining these insights, businesses can prioritize high-value customers and allocate marketing resources effectively, leading to better retention and increased revenue."
   ]
  },
  {
   "cell_type": "code",
   "execution_count": 1,
   "id": "f5a63a4d-7512-4f6d-8de2-a0ec804a1958",
   "metadata": {
    "scrolled": true
   },
   "outputs": [
    {
     "name": "stdout",
     "output_type": "stream",
     "text": [
      "Requirement already satisfied: openpyxl in c:\\users\\lkaur\\appdata\\local\\programs\\python\\python312\\lib\\site-packages (3.1.5)"
     ]
    },
    {
     "name": "stderr",
     "output_type": "stream",
     "text": [
      "\n",
      "[notice] A new release of pip is available: 23.2.1 -> 24.2\n",
      "[notice] To update, run: python.exe -m pip install --upgrade pip\n"
     ]
    },
    {
     "name": "stdout",
     "output_type": "stream",
     "text": [
      "\n",
      "Requirement already satisfied: et-xmlfile in c:\\users\\lkaur\\appdata\\local\\programs\\python\\python312\\lib\\site-packages (from openpyxl) (1.1.0)\n",
      "Requirement already satisfied: lifetimes in c:\\users\\lkaur\\appdata\\local\\programs\\python\\python312\\lib\\site-packages (0.11.3)\n",
      "Requirement already satisfied: numpy>=1.10.0 in c:\\users\\lkaur\\appdata\\local\\programs\\python\\python312\\lib\\site-packages (from lifetimes) (1.26.4)\n",
      "Requirement already satisfied: scipy>=1.0.0 in c:\\users\\lkaur\\appdata\\local\\programs\\python\\python312\\lib\\site-packages (from lifetimes) (1.13.1)\n",
      "Requirement already satisfied: pandas>=0.24.0 in c:\\users\\lkaur\\appdata\\local\\programs\\python\\python312\\lib\\site-packages (from lifetimes) (2.2.1)\n",
      "Requirement already satisfied: autograd>=1.2.0 in c:\\users\\lkaur\\appdata\\local\\programs\\python\\python312\\lib\\site-packages (from lifetimes) (1.6.2)\n",
      "Requirement already satisfied: dill>=0.2.6 in c:\\users\\lkaur\\appdata\\local\\programs\\python\\python312\\lib\\site-packages (from lifetimes) (0.3.8)\n",
      "Requirement already satisfied: future>=0.15.2 in c:\\users\\lkaur\\appdata\\local\\programs\\python\\python312\\lib\\site-packages (from autograd>=1.2.0->lifetimes) (1.0.0)\n",
      "Requirement already satisfied: python-dateutil>=2.8.2 in c:\\users\\lkaur\\appdata\\local\\programs\\python\\python312\\lib\\site-packages (from pandas>=0.24.0->lifetimes) (2.8.2)\n",
      "Requirement already satisfied: pytz>=2020.1 in c:\\users\\lkaur\\appdata\\local\\programs\\python\\python312\\lib\\site-packages (from pandas>=0.24.0->lifetimes) (2024.1)\n",
      "Requirement already satisfied: tzdata>=2022.7 in c:\\users\\lkaur\\appdata\\local\\programs\\python\\python312\\lib\\site-packages (from pandas>=0.24.0->lifetimes) (2024.1)\n",
      "Requirement already satisfied: six>=1.5 in c:\\users\\lkaur\\appdata\\local\\programs\\python\\python312\\lib\\site-packages (from python-dateutil>=2.8.2->pandas>=0.24.0->lifetimes) (1.16.0)\n"
     ]
    },
    {
     "name": "stderr",
     "output_type": "stream",
     "text": [
      "\n",
      "[notice] A new release of pip is available: 23.2.1 -> 24.2\n",
      "[notice] To update, run: python.exe -m pip install --upgrade pip\n"
     ]
    },
    {
     "name": "stdout",
     "output_type": "stream",
     "text": [
      "Requirement already satisfied: xlrd in c:\\users\\lkaur\\appdata\\local\\programs\\python\\python312\\lib\\site-packages (2.0.1)\n"
     ]
    },
    {
     "name": "stderr",
     "output_type": "stream",
     "text": [
      "\n",
      "[notice] A new release of pip is available: 23.2.1 -> 24.2\n",
      "[notice] To update, run: python.exe -m pip install --upgrade pip\n"
     ]
    }
   ],
   "source": [
    "#install and import the relevant libraries\n",
    "!pip install openpyxl\n",
    "!pip install lifetimes\n",
    "!pip install xlrd\n",
    "import pandas as pd\n",
    "import numpy as np\n",
    "import datetime as dt\n",
    "from lifetimes import BetaGeoFitter #Imports the BetaGeoFitter class from the Lifetimes package. This class is used to fit the BG/NBD model, which predicts the probability of repeat purchases for customers over time.\n",
    "from lifetimes import GammaGammaFitter #Imports the GammaGammaFitter class from the Lifetimes package. This class is used to model customer transaction data to estimate average transaction value or customer profitability.\n",
    "from sklearn.preprocessing import MinMaxScaler #It is used to scale data features to a specific range, typically between 0 and 1.\n",
    "from lifetimes.plotting import plot_probability_alive_matrix, plot_frequency_recency_matrix #Plots the probability of a customer being \"alive\" (active).\n",
    "from lifetimes.plotting import plot_calibration_purchases_vs_holdout_purchases, plot_period_transactions,plot_history_alive\n",
    "pd.set_option('display.max_columns', None)\n",
    "pd.set_option('display.max_rows', None)\n",
    "pd.set_option('display.float_format', lambda x: '%.5f' % x)\n",
    "import random\n",
    "random.seed(42) #We are setting the seed to assure you get the same answers\n",
    "import warnings\n",
    "warnings.filterwarnings('ignore')"
   ]
  },
  {
   "cell_type": "markdown",
   "id": "0efb0121-d1f6-470c-992b-1bc398a28f68",
   "metadata": {},
   "source": [
    "## Setting the stage: "
   ]
  },
  {
   "cell_type": "markdown",
   "id": "5950c152-5864-4e82-929e-f5321755406a",
   "metadata": {},
   "source": [
    "### Step 1: Data Preparation\n",
    "To begin, we load the historical transaction data of an online retail company into a Pandas DataFrame. The dataset contained transactions from 2010 to 2011. The initial steps involved inspecting the data and handling any missing values or outliers. This process ensured that there is a clean dataset to work with, free from null values, which could otherwise skew the analysis."
   ]
  },
  {
   "cell_type": "code",
   "execution_count": 2,
   "id": "bf0c6b8b-9a8e-40f7-84a4-c3d2510dffef",
   "metadata": {},
   "outputs": [],
   "source": [
    "df = pd.read_excel('link to dataset location/datasetname.csv', sheet_name='Year 2010-2011') #replace this with the link to your dataset location\n",
    "df_ = df.copy()"
   ]
  },
  {
   "cell_type": "code",
   "execution_count": 3,
   "id": "34261528-4dc6-480e-b750-c6c565c20edb",
   "metadata": {},
   "outputs": [
    {
     "name": "stdout",
     "output_type": "stream",
     "text": [
      "######Shape######\n",
      "(541910, 8)\n",
      "######Columns######\n",
      "Index(['Invoice', 'StockCode', 'Description', 'Quantity', 'InvoiceDate',\n",
      "       'Price', 'Customer ID', 'Country'],\n",
      "      dtype='object')\n",
      "######Datatypes######\n",
      "Invoice                object\n",
      "StockCode              object\n",
      "Description            object\n",
      "Quantity                int64\n",
      "InvoiceDate    datetime64[ns]\n",
      "Price                 float64\n",
      "Customer ID           float64\n",
      "Country                object\n",
      "dtype: object\n",
      "######Head######\n",
      "  Invoice StockCode                          Description  Quantity  \\\n",
      "0  536365    85123A   WHITE HANGING HEART T-LIGHT HOLDER         6   \n",
      "1  536365     71053                  WHITE METAL LANTERN         6   \n",
      "2  536365    84406B       CREAM CUPID HEARTS COAT HANGER         8   \n",
      "3  536365    84029G  KNITTED UNION FLAG HOT WATER BOTTLE         6   \n",
      "4  536365    84029E       RED WOOLLY HOTTIE WHITE HEART.         6   \n",
      "\n",
      "          InvoiceDate   Price  Customer ID         Country  \n",
      "0 2010-12-01 08:26:00 2.55000  17850.00000  United Kingdom  \n",
      "1 2010-12-01 08:26:00 3.39000  17850.00000  United Kingdom  \n",
      "2 2010-12-01 08:26:00 2.75000  17850.00000  United Kingdom  \n",
      "3 2010-12-01 08:26:00 3.39000  17850.00000  United Kingdom  \n",
      "4 2010-12-01 08:26:00 3.39000  17850.00000  United Kingdom  \n",
      "######Tail######\n",
      "       Invoice StockCode                      Description  Quantity  \\\n",
      "541905  581587     22899     CHILDREN'S APRON DOLLY GIRL          6   \n",
      "541906  581587     23254    CHILDRENS CUTLERY DOLLY GIRL          4   \n",
      "541907  581587     23255  CHILDRENS CUTLERY CIRCUS PARADE         4   \n",
      "541908  581587     22138    BAKING SET 9 PIECE RETROSPOT          3   \n",
      "541909  581587      POST                          POSTAGE         1   \n",
      "\n",
      "               InvoiceDate    Price  Customer ID Country  \n",
      "541905 2011-12-09 12:50:00  2.10000  12680.00000  France  \n",
      "541906 2011-12-09 12:50:00  4.15000  12680.00000  France  \n",
      "541907 2011-12-09 12:50:00  4.15000  12680.00000  France  \n",
      "541908 2011-12-09 12:50:00  4.95000  12680.00000  France  \n",
      "541909 2011-12-09 12:50:00 18.00000  12680.00000  France  \n",
      "######Description######\n",
      "          Quantity                    InvoiceDate        Price  Customer ID\n",
      "count 541910.00000                         541910 541910.00000 406830.00000\n",
      "mean       9.55223  2011-07-04 13:35:22.342307584      4.61114  15287.68416\n",
      "min   -80995.00000            2010-12-01 08:26:00 -11062.06000  12346.00000\n",
      "25%        1.00000            2011-03-28 11:34:00      1.25000  13953.00000\n",
      "50%        3.00000            2011-07-19 17:17:00      2.08000  15152.00000\n",
      "75%       10.00000            2011-10-19 11:27:00      4.13000  16791.00000\n",
      "max    80995.00000            2011-12-09 12:50:00  38970.00000  18287.00000\n",
      "std      218.08096                            NaN     96.75977   1713.60307\n"
     ]
    }
   ],
   "source": [
    "def check_df(dataframe):\n",
    "    print('######Shape######')\n",
    "    print(dataframe.shape)\n",
    "    print('######Columns######')\n",
    "    print(dataframe.columns)\n",
    "    print('######Datatypes######')\n",
    "    print(dataframe.dtypes)\n",
    "    print('######Head######')\n",
    "    print(dataframe.head())\n",
    "    print('######Tail######')\n",
    "    print(dataframe.tail())\n",
    "    print('######Description######')\n",
    "    print(dataframe.describe())\n",
    "\n",
    "check_df(df)"
   ]
  },
  {
   "cell_type": "code",
   "execution_count": 4,
   "id": "03dd4d78-d922-4a05-9294-a07efda61364",
   "metadata": {},
   "outputs": [
    {
     "data": {
      "text/plain": [
       "Invoice             0\n",
       "StockCode           0\n",
       "Description      1454\n",
       "Quantity            0\n",
       "InvoiceDate         0\n",
       "Price               0\n",
       "Customer ID    135080\n",
       "Country             0\n",
       "dtype: int64"
      ]
     },
     "execution_count": 4,
     "metadata": {},
     "output_type": "execute_result"
    }
   ],
   "source": [
    "df.isnull().sum()"
   ]
  },
  {
   "cell_type": "code",
   "execution_count": 5,
   "id": "e5b0088b-9008-48f2-b27c-90e0252e0231",
   "metadata": {},
   "outputs": [
    {
     "data": {
      "text/plain": [
       "Invoice        0\n",
       "StockCode      0\n",
       "Description    0\n",
       "Quantity       0\n",
       "InvoiceDate    0\n",
       "Price          0\n",
       "Customer ID    0\n",
       "Country        0\n",
       "dtype: int64"
      ]
     },
     "execution_count": 5,
     "metadata": {},
     "output_type": "execute_result"
    }
   ],
   "source": [
    "df.dropna(inplace=True)\n",
    "df.isnull().sum()"
   ]
  },
  {
   "cell_type": "markdown",
   "id": "2b23e328-d522-48d9-b502-5ce94f2e5f2a",
   "metadata": {},
   "source": [
    "### Step 2: Outlier Detection and Correction\n",
    "Outliers can distort the analysis, particularly in a dataset involving monetary transactions. we implement functions to detect and correct outliers in key variables like Price and Quantity."
   ]
  },
  {
   "cell_type": "code",
   "execution_count": 6,
   "id": "88c97717-a576-42b6-a3f6-347eaec769f1",
   "metadata": {},
   "outputs": [],
   "source": [
    "def outlier_thresholds(dataframe, variable):\n",
    "    quartile1 = dataframe[variable].quantile(0.01)\n",
    "    quartile3 = dataframe[variable].quantile(0.99)\n",
    "    interquantile_range = quartile3 - quartile1\n",
    "    up_limit = quartile3 + 1.5 * interquantile_range\n",
    "    low_limit = quartile1 - 1.5 * interquantile_range\n",
    "    return low_limit, up_limit\n",
    "\n",
    "\n",
    "def replace_with_thresholds(dataframe, variable):\n",
    "    low_limit, up_limit = outlier_thresholds(dataframe, variable)\n",
    "    dataframe.loc[(dataframe[variable] < low_limit), variable] = low_limit\n",
    "    dataframe.loc[(dataframe[variable] > up_limit), variable] = up_limit"
   ]
  },
  {
   "cell_type": "markdown",
   "id": "b027c1a4-f413-43b0-8166-ddd29fdfa136",
   "metadata": {},
   "source": [
    "### Step 3: Data Segmentation\n",
    "For this analysis, we focus on customers based in the United Kingdom, as they represented the majority of the business's transactions. We also filter out canceled orders and transactions where prices were zero or negative."
   ]
  },
  {
   "cell_type": "code",
   "execution_count": 7,
   "id": "9f8b3f02-4317-49d9-be75-cfbcc9e8d870",
   "metadata": {},
   "outputs": [],
   "source": [
    "    df_uk = df[df['Country'] == 'United Kingdom']\n",
    "    f_uk = df_uk[~df_uk['Invoice'].str.contains('C', na=False)]\n",
    "    df_uk = df_uk[df_uk['Price'] > 0]"
   ]
  },
  {
   "cell_type": "code",
   "execution_count": 8,
   "id": "7b5161e7-5c01-4094-a18f-daa285315843",
   "metadata": {},
   "outputs": [],
   "source": [
    "replace_with_thresholds(df_uk, 'Price')\n",
    "replace_with_thresholds(df_uk, 'Quantity')"
   ]
  },
  {
   "cell_type": "code",
   "execution_count": 9,
   "id": "3e08982b-fbad-4cf8-8fc6-303bb5529f57",
   "metadata": {},
   "outputs": [
    {
     "data": {
      "text/html": [
       "<div>\n",
       "<style scoped>\n",
       "    .dataframe tbody tr th:only-of-type {\n",
       "        vertical-align: middle;\n",
       "    }\n",
       "\n",
       "    .dataframe tbody tr th {\n",
       "        vertical-align: top;\n",
       "    }\n",
       "\n",
       "    .dataframe thead th {\n",
       "        text-align: right;\n",
       "    }\n",
       "</style>\n",
       "<table border=\"1\" class=\"dataframe\">\n",
       "  <thead>\n",
       "    <tr style=\"text-align: right;\">\n",
       "      <th></th>\n",
       "      <th>Invoice</th>\n",
       "      <th>StockCode</th>\n",
       "      <th>Description</th>\n",
       "      <th>Quantity</th>\n",
       "      <th>InvoiceDate</th>\n",
       "      <th>Price</th>\n",
       "      <th>Customer ID</th>\n",
       "      <th>Country</th>\n",
       "    </tr>\n",
       "  </thead>\n",
       "  <tbody>\n",
       "    <tr>\n",
       "      <th>0</th>\n",
       "      <td>536365</td>\n",
       "      <td>85123A</td>\n",
       "      <td>WHITE HANGING HEART T-LIGHT HOLDER</td>\n",
       "      <td>6</td>\n",
       "      <td>2010-12-01 08:26:00</td>\n",
       "      <td>2.55000</td>\n",
       "      <td>17850.00000</td>\n",
       "      <td>United Kingdom</td>\n",
       "    </tr>\n",
       "    <tr>\n",
       "      <th>1</th>\n",
       "      <td>536365</td>\n",
       "      <td>71053</td>\n",
       "      <td>WHITE METAL LANTERN</td>\n",
       "      <td>6</td>\n",
       "      <td>2010-12-01 08:26:00</td>\n",
       "      <td>3.39000</td>\n",
       "      <td>17850.00000</td>\n",
       "      <td>United Kingdom</td>\n",
       "    </tr>\n",
       "    <tr>\n",
       "      <th>2</th>\n",
       "      <td>536365</td>\n",
       "      <td>84406B</td>\n",
       "      <td>CREAM CUPID HEARTS COAT HANGER</td>\n",
       "      <td>8</td>\n",
       "      <td>2010-12-01 08:26:00</td>\n",
       "      <td>2.75000</td>\n",
       "      <td>17850.00000</td>\n",
       "      <td>United Kingdom</td>\n",
       "    </tr>\n",
       "    <tr>\n",
       "      <th>3</th>\n",
       "      <td>536365</td>\n",
       "      <td>84029G</td>\n",
       "      <td>KNITTED UNION FLAG HOT WATER BOTTLE</td>\n",
       "      <td>6</td>\n",
       "      <td>2010-12-01 08:26:00</td>\n",
       "      <td>3.39000</td>\n",
       "      <td>17850.00000</td>\n",
       "      <td>United Kingdom</td>\n",
       "    </tr>\n",
       "    <tr>\n",
       "      <th>4</th>\n",
       "      <td>536365</td>\n",
       "      <td>84029E</td>\n",
       "      <td>RED WOOLLY HOTTIE WHITE HEART.</td>\n",
       "      <td>6</td>\n",
       "      <td>2010-12-01 08:26:00</td>\n",
       "      <td>3.39000</td>\n",
       "      <td>17850.00000</td>\n",
       "      <td>United Kingdom</td>\n",
       "    </tr>\n",
       "  </tbody>\n",
       "</table>\n",
       "</div>"
      ],
      "text/plain": [
       "  Invoice StockCode                          Description  Quantity  \\\n",
       "0  536365    85123A   WHITE HANGING HEART T-LIGHT HOLDER         6   \n",
       "1  536365     71053                  WHITE METAL LANTERN         6   \n",
       "2  536365    84406B       CREAM CUPID HEARTS COAT HANGER         8   \n",
       "3  536365    84029G  KNITTED UNION FLAG HOT WATER BOTTLE         6   \n",
       "4  536365    84029E       RED WOOLLY HOTTIE WHITE HEART.         6   \n",
       "\n",
       "          InvoiceDate   Price  Customer ID         Country  \n",
       "0 2010-12-01 08:26:00 2.55000  17850.00000  United Kingdom  \n",
       "1 2010-12-01 08:26:00 3.39000  17850.00000  United Kingdom  \n",
       "2 2010-12-01 08:26:00 2.75000  17850.00000  United Kingdom  \n",
       "3 2010-12-01 08:26:00 3.39000  17850.00000  United Kingdom  \n",
       "4 2010-12-01 08:26:00 3.39000  17850.00000  United Kingdom  "
      ]
     },
     "execution_count": 9,
     "metadata": {},
     "output_type": "execute_result"
    }
   ],
   "source": [
    "df_uk.head()"
   ]
  },
  {
   "cell_type": "code",
   "execution_count": 10,
   "id": "78bf4594-c854-4af2-818c-9cc532279a4f",
   "metadata": {},
   "outputs": [
    {
     "data": {
      "text/html": [
       "<div>\n",
       "<style scoped>\n",
       "    .dataframe tbody tr th:only-of-type {\n",
       "        vertical-align: middle;\n",
       "    }\n",
       "\n",
       "    .dataframe tbody tr th {\n",
       "        vertical-align: top;\n",
       "    }\n",
       "\n",
       "    .dataframe thead th {\n",
       "        text-align: right;\n",
       "    }\n",
       "</style>\n",
       "<table border=\"1\" class=\"dataframe\">\n",
       "  <thead>\n",
       "    <tr style=\"text-align: right;\">\n",
       "      <th></th>\n",
       "      <th>Invoice</th>\n",
       "      <th>StockCode</th>\n",
       "      <th>Description</th>\n",
       "      <th>Quantity</th>\n",
       "      <th>InvoiceDate</th>\n",
       "      <th>Price</th>\n",
       "      <th>Customer ID</th>\n",
       "      <th>Country</th>\n",
       "      <th>TotalPrice</th>\n",
       "    </tr>\n",
       "  </thead>\n",
       "  <tbody>\n",
       "    <tr>\n",
       "      <th>0</th>\n",
       "      <td>536365</td>\n",
       "      <td>85123A</td>\n",
       "      <td>WHITE HANGING HEART T-LIGHT HOLDER</td>\n",
       "      <td>6</td>\n",
       "      <td>2010-12-01 08:26:00</td>\n",
       "      <td>2.55000</td>\n",
       "      <td>17850.00000</td>\n",
       "      <td>United Kingdom</td>\n",
       "      <td>15.30000</td>\n",
       "    </tr>\n",
       "    <tr>\n",
       "      <th>1</th>\n",
       "      <td>536365</td>\n",
       "      <td>71053</td>\n",
       "      <td>WHITE METAL LANTERN</td>\n",
       "      <td>6</td>\n",
       "      <td>2010-12-01 08:26:00</td>\n",
       "      <td>3.39000</td>\n",
       "      <td>17850.00000</td>\n",
       "      <td>United Kingdom</td>\n",
       "      <td>20.34000</td>\n",
       "    </tr>\n",
       "    <tr>\n",
       "      <th>2</th>\n",
       "      <td>536365</td>\n",
       "      <td>84406B</td>\n",
       "      <td>CREAM CUPID HEARTS COAT HANGER</td>\n",
       "      <td>8</td>\n",
       "      <td>2010-12-01 08:26:00</td>\n",
       "      <td>2.75000</td>\n",
       "      <td>17850.00000</td>\n",
       "      <td>United Kingdom</td>\n",
       "      <td>22.00000</td>\n",
       "    </tr>\n",
       "    <tr>\n",
       "      <th>3</th>\n",
       "      <td>536365</td>\n",
       "      <td>84029G</td>\n",
       "      <td>KNITTED UNION FLAG HOT WATER BOTTLE</td>\n",
       "      <td>6</td>\n",
       "      <td>2010-12-01 08:26:00</td>\n",
       "      <td>3.39000</td>\n",
       "      <td>17850.00000</td>\n",
       "      <td>United Kingdom</td>\n",
       "      <td>20.34000</td>\n",
       "    </tr>\n",
       "    <tr>\n",
       "      <th>4</th>\n",
       "      <td>536365</td>\n",
       "      <td>84029E</td>\n",
       "      <td>RED WOOLLY HOTTIE WHITE HEART.</td>\n",
       "      <td>6</td>\n",
       "      <td>2010-12-01 08:26:00</td>\n",
       "      <td>3.39000</td>\n",
       "      <td>17850.00000</td>\n",
       "      <td>United Kingdom</td>\n",
       "      <td>20.34000</td>\n",
       "    </tr>\n",
       "    <tr>\n",
       "      <th>5</th>\n",
       "      <td>536365</td>\n",
       "      <td>22752</td>\n",
       "      <td>SET 7 BABUSHKA NESTING BOXES</td>\n",
       "      <td>2</td>\n",
       "      <td>2010-12-01 08:26:00</td>\n",
       "      <td>7.65000</td>\n",
       "      <td>17850.00000</td>\n",
       "      <td>United Kingdom</td>\n",
       "      <td>15.30000</td>\n",
       "    </tr>\n",
       "    <tr>\n",
       "      <th>6</th>\n",
       "      <td>536365</td>\n",
       "      <td>21730</td>\n",
       "      <td>GLASS STAR FROSTED T-LIGHT HOLDER</td>\n",
       "      <td>6</td>\n",
       "      <td>2010-12-01 08:26:00</td>\n",
       "      <td>4.25000</td>\n",
       "      <td>17850.00000</td>\n",
       "      <td>United Kingdom</td>\n",
       "      <td>25.50000</td>\n",
       "    </tr>\n",
       "  </tbody>\n",
       "</table>\n",
       "</div>"
      ],
      "text/plain": [
       "  Invoice StockCode                          Description  Quantity  \\\n",
       "0  536365    85123A   WHITE HANGING HEART T-LIGHT HOLDER         6   \n",
       "1  536365     71053                  WHITE METAL LANTERN         6   \n",
       "2  536365    84406B       CREAM CUPID HEARTS COAT HANGER         8   \n",
       "3  536365    84029G  KNITTED UNION FLAG HOT WATER BOTTLE         6   \n",
       "4  536365    84029E       RED WOOLLY HOTTIE WHITE HEART.         6   \n",
       "5  536365     22752         SET 7 BABUSHKA NESTING BOXES         2   \n",
       "6  536365     21730    GLASS STAR FROSTED T-LIGHT HOLDER         6   \n",
       "\n",
       "          InvoiceDate   Price  Customer ID         Country  TotalPrice  \n",
       "0 2010-12-01 08:26:00 2.55000  17850.00000  United Kingdom    15.30000  \n",
       "1 2010-12-01 08:26:00 3.39000  17850.00000  United Kingdom    20.34000  \n",
       "2 2010-12-01 08:26:00 2.75000  17850.00000  United Kingdom    22.00000  \n",
       "3 2010-12-01 08:26:00 3.39000  17850.00000  United Kingdom    20.34000  \n",
       "4 2010-12-01 08:26:00 3.39000  17850.00000  United Kingdom    20.34000  \n",
       "5 2010-12-01 08:26:00 7.65000  17850.00000  United Kingdom    15.30000  \n",
       "6 2010-12-01 08:26:00 4.25000  17850.00000  United Kingdom    25.50000  "
      ]
     },
     "execution_count": 10,
     "metadata": {},
     "output_type": "execute_result"
    }
   ],
   "source": [
    "df_uk['TotalPrice'] = df_uk['Quantity'] * df_uk['Price']"
   ]
  },
  {
   "cell_type": "markdown",
   "id": "2a324868-da94-4249-b6e1-26df955d55d3",
   "metadata": {},
   "source": [
    "### Step 4: Calculating CLV Metrics\n",
    "With the clean dataset, we calculate the key metrics needed for the CLV model—recency, frequency, and monetary value. Recency and frequency were converted into weekly units to standardize the data."
   ]
  },
  {
   "cell_type": "code",
   "execution_count": 11,
   "id": "8a0eb2b7-424f-40d3-affe-a6ded6a7b6ba",
   "metadata": {},
   "outputs": [
    {
     "data": {
      "text/plain": [
       "Timestamp('2011-12-09 12:49:00')"
      ]
     },
     "execution_count": 11,
     "metadata": {},
     "output_type": "execute_result"
    }
   ],
   "source": [
    "df_uk['InvoiceDate'].max()"
   ]
  },
  {
   "cell_type": "code",
   "execution_count": 12,
   "id": "3af569f4-8fb2-4bb4-bc80-7dd6c6f0e607",
   "metadata": {},
   "outputs": [],
   "source": [
    "today_date = dt.datetime(2011, 12, 11)"
   ]
  },
  {
   "cell_type": "code",
   "execution_count": 13,
   "id": "0c602520-d8b4-40a7-90c4-3e311603d990",
   "metadata": {},
   "outputs": [],
   "source": [
    "df_uk = df_uk.groupby('Customer ID').agg({'TotalPrice':'sum',\n",
    "                              'InvoiceDate': [lambda date: (date.max()-date.min()).days,\n",
    "                                              lambda date: (today_date - date.min()).days],\n",
    "                              'Invoice': lambda Invoice: Invoice.nunique()})"
   ]
  },
  {
   "cell_type": "code",
   "execution_count": 15,
   "id": "8820e1a1-bbe2-4ef7-a325-186ea9c3ac5a",
   "metadata": {},
   "outputs": [],
   "source": [
    "df_uk.columns.droplevel(0)\n",
    "df_uk.columns = ['monetary', 'recency', 'T', 'frequency']"
   ]
  },
  {
   "cell_type": "code",
   "execution_count": 16,
   "id": "b8275e0b-793c-4b9a-a6ae-edd74daf2119",
   "metadata": {},
   "outputs": [
    {
     "data": {
      "text/html": [
       "<div>\n",
       "<style scoped>\n",
       "    .dataframe tbody tr th:only-of-type {\n",
       "        vertical-align: middle;\n",
       "    }\n",
       "\n",
       "    .dataframe tbody tr th {\n",
       "        vertical-align: top;\n",
       "    }\n",
       "\n",
       "    .dataframe thead th {\n",
       "        text-align: right;\n",
       "    }\n",
       "</style>\n",
       "<table border=\"1\" class=\"dataframe\">\n",
       "  <thead>\n",
       "    <tr style=\"text-align: right;\">\n",
       "      <th></th>\n",
       "      <th>monetary</th>\n",
       "      <th>recency</th>\n",
       "      <th>T</th>\n",
       "      <th>frequency</th>\n",
       "    </tr>\n",
       "    <tr>\n",
       "      <th>Customer ID</th>\n",
       "      <th></th>\n",
       "      <th></th>\n",
       "      <th></th>\n",
       "      <th></th>\n",
       "    </tr>\n",
       "  </thead>\n",
       "  <tbody>\n",
       "    <tr>\n",
       "      <th>12346.00000</th>\n",
       "      <td>101.92000</td>\n",
       "      <td>0</td>\n",
       "      <td>326</td>\n",
       "      <td>2</td>\n",
       "    </tr>\n",
       "    <tr>\n",
       "      <th>12747.00000</th>\n",
       "      <td>4196.01000</td>\n",
       "      <td>366</td>\n",
       "      <td>370</td>\n",
       "      <td>11</td>\n",
       "    </tr>\n",
       "    <tr>\n",
       "      <th>12748.00000</th>\n",
       "      <td>30467.84000</td>\n",
       "      <td>372</td>\n",
       "      <td>374</td>\n",
       "      <td>223</td>\n",
       "    </tr>\n",
       "    <tr>\n",
       "      <th>12749.00000</th>\n",
       "      <td>3849.76000</td>\n",
       "      <td>209</td>\n",
       "      <td>214</td>\n",
       "      <td>8</td>\n",
       "    </tr>\n",
       "    <tr>\n",
       "      <th>12820.00000</th>\n",
       "      <td>942.34000</td>\n",
       "      <td>323</td>\n",
       "      <td>327</td>\n",
       "      <td>4</td>\n",
       "    </tr>\n",
       "  </tbody>\n",
       "</table>\n",
       "</div>"
      ],
      "text/plain": [
       "               monetary  recency    T  frequency\n",
       "Customer ID                                     \n",
       "12346.00000   101.92000        0  326          2\n",
       "12747.00000  4196.01000      366  370         11\n",
       "12748.00000 30467.84000      372  374        223\n",
       "12749.00000  3849.76000      209  214          8\n",
       "12820.00000   942.34000      323  327          4"
      ]
     },
     "execution_count": 16,
     "metadata": {},
     "output_type": "execute_result"
    }
   ],
   "source": [
    "df_uk.head()"
   ]
  },
  {
   "cell_type": "code",
   "execution_count": 17,
   "id": "5c54cdd8-228b-4097-84b7-607d7fba5db5",
   "metadata": {},
   "outputs": [],
   "source": [
    "df_uk['monetary'] = df_uk['monetary'] / df_uk['frequency'] #average spend per visit\n",
    "df_uk = df_uk[df_uk['frequency'] > 1] #making sure the customer has purchased with us atleast once\n",
    "df_uk['recency'] = df_uk['recency'] / 7  #converting the recency in weeks\n",
    "df_uk['T'] = df_uk['T'] / 7 #converting the total timespan in weeks"
   ]
  },
  {
   "cell_type": "markdown",
   "id": "e20895b6-ec7c-4b5a-bacd-cdb6a45ffce1",
   "metadata": {},
   "source": [
    "## BG/NBD Model"
   ]
  },
  {
   "cell_type": "markdown",
   "id": "63f380a2-4fcf-44b6-b203-a55910301e78",
   "metadata": {},
   "source": [
    "### Step 1: Fitting the model\n",
    "We apply the Beta Geometric/NBD model (BG/NBD) using the lifetimes package to estimate the probability of repeat purchases for each customer. Using the BG/NBD model, we can predict which customers are most likely to make repeat purchases. Such information can allow marketing teams to focus their efforts on high-value customers, offering them personalized incentives that ultimately improved retention rates. \n",
    "\n",
    "The bgf summary values indicate that the model adequately fits the data:\n",
    "- A value of r around 1.96 is quite common, suggesting a moderate level of over-dispersion in the data. The standard error (se) is relatively small, indicating a stable estimate.\n",
    "- An alpha of 8.00 suggests that customers have a low probability of making frequent purchases, which might indicate infrequent buying patterns. The standard error here is also small, suggesting a reliable estimate.\n",
    "- The a parameter being around 0.35 suggests that the average repeat purchase rate is relatively low. The small standard error again suggests a stable estimate.\n",
    "- A b value of around 6.27 indicates moderate variability in the repeat purchase rate among customers. The standard error is larger compared to the other parameters, but it still provides a reasonable bound.\n",
    "- The 95% confidence intervals for each parameter (lower 95% bound and upper 95% bound) are all relatively tight, which means that the model is providing stable estimates for these parameters. "
   ]
  },
  {
   "cell_type": "code",
   "execution_count": 19,
   "id": "7a24fbed-20ea-439a-b08f-5a028af02c69",
   "metadata": {},
   "outputs": [
    {
     "data": {
      "text/plain": [
       "<lifetimes.BetaGeoFitter: fitted with 2762 subjects, a: 0.35, alpha: 8.01, b: 6.27, r: 1.96>"
      ]
     },
     "execution_count": 19,
     "metadata": {},
     "output_type": "execute_result"
    }
   ],
   "source": [
    "bgf = BetaGeoFitter()\n",
    "bgf.fit(df_uk['frequency'], df_uk['recency'], df_uk['T'])\n",
    "bgf.summary"
   ]
  },
  {
   "cell_type": "code",
   "execution_count": 21,
   "id": "1f79172d-55dc-4bf1-aded-11371954fd90",
   "metadata": {},
   "outputs": [],
   "source": [
    "df_uk = df_uk[df_uk['monetary'] > 0]"
   ]
  },
  {
   "cell_type": "markdown",
   "id": "4b43e7f6-5063-4436-9493-82710bcba0f1",
   "metadata": {},
   "source": [
    "### Step 2: Visualizing Transaction Frequency\n",
    "We also plot the distribution of the number of transactions across different time periods. This visualization helps in validating the assumptions of the Beta Geometric/NBD model. The plot provides a visual representation of the model’s accuracy in predicting the number of purchases customers will make in the future. A close alignment between the actual and expected values indicates a good model fit."
   ]
  },
  {
   "cell_type": "code",
   "execution_count": 22,
   "id": "e5c16124-13f8-4d1f-9587-29c84a82a698",
   "metadata": {},
   "outputs": [
    {
     "data": {
      "text/plain": [
       "<Axes: title={'center': 'Frequency of Repeat Transactions'}, xlabel='Number of Calibration Period Transactions', ylabel='Customers'>"
      ]
     },
     "execution_count": 22,
     "metadata": {},
     "output_type": "execute_result"
    },
    {
     "data": {
      "image/png": "[encoded data removed]",
      "text/plain": [
       "<Figure size 640x480 with 1 Axes>"
      ]
     },
     "metadata": {},
     "output_type": "display_data"
    }
   ],
   "source": [
    "plot_period_transactions(bgf)"
   ]
  },
  {
   "cell_type": "markdown",
   "id": "da085e63-740d-421d-9f46-bb355fb5f585",
   "metadata": {},
   "source": [
    "### Step 3: Predicting Future Purchases\n",
    "Using the fitted BG/NBD model, we predict the expected number of purchases each customer would make over the next six months. This prediction is critical for identifying high-value customers who are likely to contribute to future revenue. This step reveals the top customers expected to make the most purchases, providing the marketing team with valuable insights for targeted campaigns."
   ]
  },
  {
   "cell_type": "code",
   "execution_count": 23,
   "id": "655af4a4-7b08-4604-8588-4f02caff0183",
   "metadata": {},
   "outputs": [],
   "source": [
    "df_uk['expected_purch_6month'] = bgf.predict(4*6, df_uk['frequency'], df_uk['recency'], df_uk['T'])"
   ]
  },
  {
   "cell_type": "code",
   "execution_count": 24,
   "id": "13793262-0c81-4254-9293-980f4b80fc0b",
   "metadata": {},
   "outputs": [
    {
     "data": {
      "text/html": [
       "<div>\n",
       "<style scoped>\n",
       "    .dataframe tbody tr th:only-of-type {\n",
       "        vertical-align: middle;\n",
       "    }\n",
       "\n",
       "    .dataframe tbody tr th {\n",
       "        vertical-align: top;\n",
       "    }\n",
       "\n",
       "    .dataframe thead th {\n",
       "        text-align: right;\n",
       "    }\n",
       "</style>\n",
       "<table border=\"1\" class=\"dataframe\">\n",
       "  <thead>\n",
       "    <tr style=\"text-align: right;\">\n",
       "      <th></th>\n",
       "      <th>monetary</th>\n",
       "      <th>recency</th>\n",
       "      <th>T</th>\n",
       "      <th>frequency</th>\n",
       "      <th>expected_purch_6month</th>\n",
       "    </tr>\n",
       "    <tr>\n",
       "      <th>Customer ID</th>\n",
       "      <th></th>\n",
       "      <th></th>\n",
       "      <th></th>\n",
       "      <th></th>\n",
       "      <th></th>\n",
       "    </tr>\n",
       "  </thead>\n",
       "  <tbody>\n",
       "    <tr>\n",
       "      <th>12748.00000</th>\n",
       "      <td>136.62709</td>\n",
       "      <td>53.14286</td>\n",
       "      <td>53.42857</td>\n",
       "      <td>223</td>\n",
       "      <td>82.45133</td>\n",
       "    </tr>\n",
       "    <tr>\n",
       "      <th>17841.00000</th>\n",
       "      <td>237.46757</td>\n",
       "      <td>53.00000</td>\n",
       "      <td>53.42857</td>\n",
       "      <td>169</td>\n",
       "      <td>62.53499</td>\n",
       "    </tr>\n",
       "    <tr>\n",
       "      <th>14606.00000</th>\n",
       "      <td>90.96586</td>\n",
       "      <td>53.14286</td>\n",
       "      <td>53.42857</td>\n",
       "      <td>128</td>\n",
       "      <td>47.64105</td>\n",
       "    </tr>\n",
       "    <tr>\n",
       "      <th>13089.00000</th>\n",
       "      <td>485.68059</td>\n",
       "      <td>52.28571</td>\n",
       "      <td>52.85714</td>\n",
       "      <td>118</td>\n",
       "      <td>44.19619</td>\n",
       "    </tr>\n",
       "    <tr>\n",
       "      <th>15311.00000</th>\n",
       "      <td>503.42915</td>\n",
       "      <td>53.28571</td>\n",
       "      <td>53.42857</td>\n",
       "      <td>118</td>\n",
       "      <td>44.02690</td>\n",
       "    </tr>\n",
       "  </tbody>\n",
       "</table>\n",
       "</div>"
      ],
      "text/plain": [
       "             monetary  recency        T  frequency  expected_purch_6month\n",
       "Customer ID                                                              \n",
       "12748.00000 136.62709 53.14286 53.42857        223               82.45133\n",
       "17841.00000 237.46757 53.00000 53.42857        169               62.53499\n",
       "14606.00000  90.96586 53.14286 53.42857        128               47.64105\n",
       "13089.00000 485.68059 52.28571 52.85714        118               44.19619\n",
       "15311.00000 503.42915 53.28571 53.42857        118               44.02690"
      ]
     },
     "execution_count": 24,
     "metadata": {},
     "output_type": "execute_result"
    }
   ],
   "source": [
    "df_uk.sort_values(by='expected_purch_6month', ascending= False).head()"
   ]
  },
  {
   "cell_type": "markdown",
   "id": "7ea65695-01a0-4830-a31b-d4ac8007cb76",
   "metadata": {},
   "source": [
    "## Gamma-Gamma model"
   ]
  },
  {
   "cell_type": "markdown",
   "id": "e8384a40-ba4d-420d-817f-0cfbde7815ab",
   "metadata": {},
   "source": [
    "### Step 1: Estimating Monetary Value using the Gamma- Gamma model\n",
    "To further refine our CLV model, we use the Gamma-Gamma (GG) model to estimate the expected average profit from each customer. This model complements the BG/NBD model by predicting the average transaction value, which is essential for calculating the overall CLV. This analysis helps to identify customers who not only make frequent purchases but also contribute significantly to the company's profit margin."
   ]
  },
  {
   "cell_type": "code",
   "execution_count": 25,
   "id": "85e019ba-1945-4047-aaf5-9cef87af810d",
   "metadata": {},
   "outputs": [
    {
     "data": {
      "text/html": [
       "<div>\n",
       "<style scoped>\n",
       "    .dataframe tbody tr th:only-of-type {\n",
       "        vertical-align: middle;\n",
       "    }\n",
       "\n",
       "    .dataframe tbody tr th {\n",
       "        vertical-align: top;\n",
       "    }\n",
       "\n",
       "    .dataframe thead th {\n",
       "        text-align: right;\n",
       "    }\n",
       "</style>\n",
       "<table border=\"1\" class=\"dataframe\">\n",
       "  <thead>\n",
       "    <tr style=\"text-align: right;\">\n",
       "      <th></th>\n",
       "      <th>coef</th>\n",
       "      <th>se(coef)</th>\n",
       "      <th>lower 95% bound</th>\n",
       "      <th>upper 95% bound</th>\n",
       "    </tr>\n",
       "  </thead>\n",
       "  <tbody>\n",
       "    <tr>\n",
       "      <th>p</th>\n",
       "      <td>2.71286</td>\n",
       "      <td>0.08229</td>\n",
       "      <td>2.55157</td>\n",
       "      <td>2.87415</td>\n",
       "    </tr>\n",
       "    <tr>\n",
       "      <th>q</th>\n",
       "      <td>0.33083</td>\n",
       "      <td>0.00732</td>\n",
       "      <td>0.31648</td>\n",
       "      <td>0.34518</td>\n",
       "    </tr>\n",
       "    <tr>\n",
       "      <th>v</th>\n",
       "      <td>3.66271</td>\n",
       "      <td>0.09958</td>\n",
       "      <td>3.46752</td>\n",
       "      <td>3.85789</td>\n",
       "    </tr>\n",
       "  </tbody>\n",
       "</table>\n",
       "</div>"
      ],
      "text/plain": [
       "     coef  se(coef)  lower 95% bound  upper 95% bound\n",
       "p 2.71286   0.08229          2.55157          2.87415\n",
       "q 0.33083   0.00732          0.31648          0.34518\n",
       "v 3.66271   0.09958          3.46752          3.85789"
      ]
     },
     "execution_count": 25,
     "metadata": {},
     "output_type": "execute_result"
    }
   ],
   "source": [
    "    ggf = GammaGammaFitter(penalizer_coef=0.01)\n",
    "    ggf.fit(df_uk['frequency'], df_uk['monetary'])\n",
    "    ggf.summary"
   ]
  },
  {
   "cell_type": "code",
   "execution_count": 26,
   "id": "95753394-fc39-456f-9923-a7dd3ef1e0f1",
   "metadata": {},
   "outputs": [
    {
     "data": {
      "text/plain": [
       "Customer ID\n",
       "14088.00000   3642.91033\n",
       "18102.00000   3506.46027\n",
       "16000.00000   2268.68318\n",
       "17450.00000   2192.56279\n",
       "16684.00000   1924.67921\n",
       "17511.00000   1916.45012\n",
       "16182.00000   1741.70020\n",
       "17084.00000   1684.45521\n",
       "16126.00000   1676.22508\n",
       "14096.00000   1577.19420\n",
       "dtype: float64"
      ]
     },
     "execution_count": 26,
     "metadata": {},
     "output_type": "execute_result"
    }
   ],
   "source": [
    "ggf.conditional_expected_average_profit(df_uk['frequency'], df_uk['monetary']).sort_values(ascending=False).head(10)"
   ]
  },
  {
   "cell_type": "markdown",
   "id": "29b67f93-4444-45c1-94aa-5a615c1382a4",
   "metadata": {},
   "source": [
    "### Step 2: Calculating Customer Lifetime Value (CLV)\n",
    "Finally, we calculate the CLV for each customer by combining the purchase frequency and monetary value predictions from the BG/NBD and Gamma-Gamma models. The CLV provides a holistic view of each customer's value to the business over the next six months."
   ]
  },
  {
   "cell_type": "code",
   "execution_count": 27,
   "id": "71664d1b-ef5e-4bce-9ad6-5f34c7c43753",
   "metadata": {},
   "outputs": [],
   "source": [
    "df_uk['expected_average_profit'] = ggf.conditional_expected_average_profit(df_uk['frequency'], df_uk['monetary'])\n",
    "cltv = ggf.customer_lifetime_value(bgf, df_uk['frequency'], df_uk['recency'], df_uk['T'], df_uk['monetary'], time=6, freq='W')"
   ]
  },
  {
   "cell_type": "code",
   "execution_count": 28,
   "id": "58960162-6976-43e7-af27-28b803abb4e7",
   "metadata": {},
   "outputs": [],
   "source": [
    "cltv = cltv.reset_index()"
   ]
  },
  {
   "cell_type": "code",
   "execution_count": 29,
   "id": "57f9de0b-173e-48bd-b244-4d3b397f78e3",
   "metadata": {},
   "outputs": [],
   "source": [
    "cltv_final = df_uk.merge(cltv, on='Customer ID', how='left')"
   ]
  },
  {
   "cell_type": "code",
   "execution_count": 30,
   "id": "25f0e304-d881-4f61-993c-b3ea3e340e48",
   "metadata": {},
   "outputs": [
    {
     "data": {
      "text/html": [
       "<div>\n",
       "<style scoped>\n",
       "    .dataframe tbody tr th:only-of-type {\n",
       "        vertical-align: middle;\n",
       "    }\n",
       "\n",
       "    .dataframe tbody tr th {\n",
       "        vertical-align: top;\n",
       "    }\n",
       "\n",
       "    .dataframe thead th {\n",
       "        text-align: right;\n",
       "    }\n",
       "</style>\n",
       "<table border=\"1\" class=\"dataframe\">\n",
       "  <thead>\n",
       "    <tr style=\"text-align: right;\">\n",
       "      <th></th>\n",
       "      <th>Customer ID</th>\n",
       "      <th>monetary</th>\n",
       "      <th>recency</th>\n",
       "      <th>T</th>\n",
       "      <th>frequency</th>\n",
       "      <th>expected_purch_6month</th>\n",
       "      <th>expected_average_profit</th>\n",
       "      <th>clv</th>\n",
       "    </tr>\n",
       "  </thead>\n",
       "  <tbody>\n",
       "    <tr>\n",
       "      <th>2648</th>\n",
       "      <td>18102.00000</td>\n",
       "      <td>3492.45081</td>\n",
       "      <td>52.28571</td>\n",
       "      <td>52.57143</td>\n",
       "      <td>62</td>\n",
       "      <td>23.74291</td>\n",
       "      <td>3506.46027</td>\n",
       "      <td>87015.12702</td>\n",
       "    </tr>\n",
       "    <tr>\n",
       "      <th>637</th>\n",
       "      <td>14096.00000</td>\n",
       "      <td>1565.64412</td>\n",
       "      <td>13.85714</td>\n",
       "      <td>14.57143</td>\n",
       "      <td>34</td>\n",
       "      <td>32.66895</td>\n",
       "      <td>1577.19420</td>\n",
       "      <td>53660.86730</td>\n",
       "    </tr>\n",
       "    <tr>\n",
       "      <th>2332</th>\n",
       "      <td>17450.00000</td>\n",
       "      <td>2182.66291</td>\n",
       "      <td>51.28571</td>\n",
       "      <td>52.57143</td>\n",
       "      <td>55</td>\n",
       "      <td>20.88890</td>\n",
       "      <td>2192.56279</td>\n",
       "      <td>47870.49168</td>\n",
       "    </tr>\n",
       "    <tr>\n",
       "      <th>2363</th>\n",
       "      <td>17511.00000</td>\n",
       "      <td>1906.09391</td>\n",
       "      <td>52.85714</td>\n",
       "      <td>53.42857</td>\n",
       "      <td>46</td>\n",
       "      <td>17.52024</td>\n",
       "      <td>1916.45012</td>\n",
       "      <td>35097.02687</td>\n",
       "    </tr>\n",
       "    <tr>\n",
       "      <th>1596</th>\n",
       "      <td>16000.00000</td>\n",
       "      <td>2080.92667</td>\n",
       "      <td>0.00000</td>\n",
       "      <td>0.42857</td>\n",
       "      <td>3</td>\n",
       "      <td>10.96741</td>\n",
       "      <td>2268.68318</td>\n",
       "      <td>25845.55543</td>\n",
       "    </tr>\n",
       "  </tbody>\n",
       "</table>\n",
       "</div>"
      ],
      "text/plain": [
       "      Customer ID   monetary  recency        T  frequency  \\\n",
       "2648  18102.00000 3492.45081 52.28571 52.57143         62   \n",
       "637   14096.00000 1565.64412 13.85714 14.57143         34   \n",
       "2332  17450.00000 2182.66291 51.28571 52.57143         55   \n",
       "2363  17511.00000 1906.09391 52.85714 53.42857         46   \n",
       "1596  16000.00000 2080.92667  0.00000  0.42857          3   \n",
       "\n",
       "      expected_purch_6month  expected_average_profit         clv  \n",
       "2648               23.74291               3506.46027 87015.12702  \n",
       "637                32.66895               1577.19420 53660.86730  \n",
       "2332               20.88890               2192.56279 47870.49168  \n",
       "2363               17.52024               1916.45012 35097.02687  \n",
       "1596               10.96741               2268.68318 25845.55543  "
      ]
     },
     "execution_count": 30,
     "metadata": {},
     "output_type": "execute_result"
    }
   ],
   "source": [
    "cltv_final.sort_values(by='clv', ascending=False).head()"
   ]
  },
  {
   "cell_type": "markdown",
   "id": "7cd0d5bc-899f-4e78-86d1-09b25d7ac7e7",
   "metadata": {},
   "source": [
    "### Step 3: Scaling and Prioritizing CLV\n",
    "To assist the marketing team in prioritizing their efforts, we normalize the CLV scores using Min-Max Scaling. This scaling ensures that the CLV values are within a consistent range, making it easier to compare and prioritize customers."
   ]
  },
  {
   "cell_type": "code",
   "execution_count": 31,
   "id": "51a0a4e3-a4b6-4aac-b7a3-b211283d0a5e",
   "metadata": {},
   "outputs": [
    {
     "data": {
      "text/html": [
       "<div>\n",
       "<style scoped>\n",
       "    .dataframe tbody tr th:only-of-type {\n",
       "        vertical-align: middle;\n",
       "    }\n",
       "\n",
       "    .dataframe tbody tr th {\n",
       "        vertical-align: top;\n",
       "    }\n",
       "\n",
       "    .dataframe thead th {\n",
       "        text-align: right;\n",
       "    }\n",
       "</style>\n",
       "<table border=\"1\" class=\"dataframe\">\n",
       "  <thead>\n",
       "    <tr style=\"text-align: right;\">\n",
       "      <th></th>\n",
       "      <th>Customer ID</th>\n",
       "      <th>monetary</th>\n",
       "      <th>recency</th>\n",
       "      <th>T</th>\n",
       "      <th>frequency</th>\n",
       "      <th>expected_purch_6month</th>\n",
       "      <th>expected_average_profit</th>\n",
       "      <th>clv</th>\n",
       "      <th>scaled_cltv</th>\n",
       "    </tr>\n",
       "  </thead>\n",
       "  <tbody>\n",
       "    <tr>\n",
       "      <th>2648</th>\n",
       "      <td>18102.00000</td>\n",
       "      <td>3492.45081</td>\n",
       "      <td>52.28571</td>\n",
       "      <td>52.57143</td>\n",
       "      <td>62</td>\n",
       "      <td>23.74291</td>\n",
       "      <td>3506.46027</td>\n",
       "      <td>87015.12702</td>\n",
       "      <td>1.00000</td>\n",
       "    </tr>\n",
       "    <tr>\n",
       "      <th>637</th>\n",
       "      <td>14096.00000</td>\n",
       "      <td>1565.64412</td>\n",
       "      <td>13.85714</td>\n",
       "      <td>14.57143</td>\n",
       "      <td>34</td>\n",
       "      <td>32.66895</td>\n",
       "      <td>1577.19420</td>\n",
       "      <td>53660.86730</td>\n",
       "      <td>0.61668</td>\n",
       "    </tr>\n",
       "    <tr>\n",
       "      <th>2332</th>\n",
       "      <td>17450.00000</td>\n",
       "      <td>2182.66291</td>\n",
       "      <td>51.28571</td>\n",
       "      <td>52.57143</td>\n",
       "      <td>55</td>\n",
       "      <td>20.88890</td>\n",
       "      <td>2192.56279</td>\n",
       "      <td>47870.49168</td>\n",
       "      <td>0.55014</td>\n",
       "    </tr>\n",
       "    <tr>\n",
       "      <th>2363</th>\n",
       "      <td>17511.00000</td>\n",
       "      <td>1906.09391</td>\n",
       "      <td>52.85714</td>\n",
       "      <td>53.42857</td>\n",
       "      <td>46</td>\n",
       "      <td>17.52024</td>\n",
       "      <td>1916.45012</td>\n",
       "      <td>35097.02687</td>\n",
       "      <td>0.40334</td>\n",
       "    </tr>\n",
       "    <tr>\n",
       "      <th>1596</th>\n",
       "      <td>16000.00000</td>\n",
       "      <td>2080.92667</td>\n",
       "      <td>0.00000</td>\n",
       "      <td>0.42857</td>\n",
       "      <td>3</td>\n",
       "      <td>10.96741</td>\n",
       "      <td>2268.68318</td>\n",
       "      <td>25845.55543</td>\n",
       "      <td>0.29702</td>\n",
       "    </tr>\n",
       "  </tbody>\n",
       "</table>\n",
       "</div>"
      ],
      "text/plain": [
       "      Customer ID   monetary  recency        T  frequency  \\\n",
       "2648  18102.00000 3492.45081 52.28571 52.57143         62   \n",
       "637   14096.00000 1565.64412 13.85714 14.57143         34   \n",
       "2332  17450.00000 2182.66291 51.28571 52.57143         55   \n",
       "2363  17511.00000 1906.09391 52.85714 53.42857         46   \n",
       "1596  16000.00000 2080.92667  0.00000  0.42857          3   \n",
       "\n",
       "      expected_purch_6month  expected_average_profit         clv  scaled_cltv  \n",
       "2648               23.74291               3506.46027 87015.12702      1.00000  \n",
       "637                32.66895               1577.19420 53660.86730      0.61668  \n",
       "2332               20.88890               2192.56279 47870.49168      0.55014  \n",
       "2363               17.52024               1916.45012 35097.02687      0.40334  \n",
       "1596               10.96741               2268.68318 25845.55543      0.29702  "
      ]
     },
     "execution_count": 31,
     "metadata": {},
     "output_type": "execute_result"
    }
   ],
   "source": [
    "scaler = MinMaxScaler(feature_range=(0, 1))\n",
    "scaler.fit(cltv_final[['clv']])\n",
    "cltv_final['scaled_cltv'] = scaler.transform(cltv_final[['clv']])\n",
    "cltv_final.sort_values(by='scaled_cltv', ascending=False).head()"
   ]
  }
 ],
 "metadata": {
  "kernelspec": {
   "display_name": "Python 3 (ipykernel)",
   "language": "python",
   "name": "python3"
  },
  "language_info": {
   "codemirror_mode": {
    "name": "ipython",
    "version": 3
   },
   "file_extension": ".py",
   "mimetype": "text/x-python",
   "name": "python",
   "nbconvert_exporter": "python",
   "pygments_lexer": "ipython3",
   "version": "3.12.1"
  }
 },
 "nbformat": 4,
 "nbformat_minor": 5
}
